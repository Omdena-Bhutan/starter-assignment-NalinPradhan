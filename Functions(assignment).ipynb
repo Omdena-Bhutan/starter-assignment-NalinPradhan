{
  "nbformat": 4,
  "nbformat_minor": 0,
  "metadata": {
    "colab": {
      "provenance": [],
      "include_colab_link": true
    },
    "kernelspec": {
      "name": "python3",
      "display_name": "Python 3"
    },
    "language_info": {
      "name": "python"
    }
  },
  "cells": [
    {
      "cell_type": "markdown",
      "metadata": {
        "id": "view-in-github",
        "colab_type": "text"
      },
      "source": [
        "<a href=\"https://colab.research.google.com/github/Omdena-Bhutan/starter-assignment-NalinPradhan/blob/main/Functions(assignment).ipynb\" target=\"_parent\"><img src=\"https://colab.research.google.com/assets/colab-badge.svg\" alt=\"Open In Colab\"/></a>"
      ]
    },
    {
      "cell_type": "code",
      "execution_count": null,
      "metadata": {
        "id": "9phAhMF0EG6M"
      },
      "outputs": [],
      "source": [
        "# Function to greet someone\n",
        "def greet():\n",
        "  print(\"Hello, Welcome to python\")"
      ]
    },
    {
      "cell_type": "code",
      "source": [
        "greet()"
      ],
      "metadata": {
        "colab": {
          "base_uri": "https://localhost:8080/"
        },
        "id": "YyI69zANEYV-",
        "outputId": "680a1145-6a3f-4ac2-8573-a12919a525d2"
      },
      "execution_count": null,
      "outputs": [
        {
          "output_type": "stream",
          "name": "stdout",
          "text": [
            "Hello, Welcome to python\n"
          ]
        }
      ]
    },
    {
      "cell_type": "code",
      "source": [
        "greet()"
      ],
      "metadata": {
        "colab": {
          "base_uri": "https://localhost:8080/"
        },
        "id": "tpsPWlpAEhZA",
        "outputId": "870e9aec-e6a7-4a8e-f231-38dfcf1a3680"
      },
      "execution_count": null,
      "outputs": [
        {
          "output_type": "stream",
          "name": "stdout",
          "text": [
            "Hello, Welcome to python\n"
          ]
        }
      ]
    },
    {
      "cell_type": "code",
      "source": [
        "# Create a function to add 2 numbers - Parameters - 2 numbers it is to add\n",
        "\n",
        "def add(a, b):\n",
        "  print(a + b)"
      ],
      "metadata": {
        "id": "OBKUQPTGElFZ"
      },
      "execution_count": null,
      "outputs": []
    },
    {
      "cell_type": "code",
      "source": [
        "add(2, 5)"
      ],
      "metadata": {
        "colab": {
          "base_uri": "https://localhost:8080/"
        },
        "id": "kxwQr0xcE1TK",
        "outputId": "78f2f584-c8ed-4161-cfe6-b7b0a19f890d"
      },
      "execution_count": null,
      "outputs": [
        {
          "output_type": "stream",
          "name": "stdout",
          "text": [
            "7\n"
          ]
        }
      ]
    },
    {
      "cell_type": "code",
      "source": [
        "add(4, 9)"
      ],
      "metadata": {
        "colab": {
          "base_uri": "https://localhost:8080/"
        },
        "id": "uult6zzZE5Hn",
        "outputId": "f19fe189-573c-47a0-fb7b-bf49142e28e4"
      },
      "execution_count": null,
      "outputs": [
        {
          "output_type": "stream",
          "name": "stdout",
          "text": [
            "13\n"
          ]
        }
      ]
    },
    {
      "cell_type": "code",
      "source": [
        "add(2)"
      ],
      "metadata": {
        "id": "rMKB4XABFG7t"
      },
      "execution_count": null,
      "outputs": []
    },
    {
      "cell_type": "code",
      "source": [
        "# Default Parameters\n",
        "def greet(name = \"Guest\"): # Default parameter is Guest\n",
        "  print(f\"Hello, {name}!\")"
      ],
      "metadata": {
        "id": "kRGb1QZAE92D"
      },
      "execution_count": null,
      "outputs": []
    },
    {
      "cell_type": "code",
      "source": [
        "greet(\"Desmond\")"
      ],
      "metadata": {
        "colab": {
          "base_uri": "https://localhost:8080/"
        },
        "id": "DELHgDb1FcJj",
        "outputId": "b6095141-fccb-46d3-f54f-7a45980072b8"
      },
      "execution_count": null,
      "outputs": [
        {
          "output_type": "stream",
          "name": "stdout",
          "text": [
            "Hello, Desmond!\n"
          ]
        }
      ]
    },
    {
      "cell_type": "code",
      "source": [
        "greet()"
      ],
      "metadata": {
        "colab": {
          "base_uri": "https://localhost:8080/"
        },
        "id": "0GQcPfRXFfsI",
        "outputId": "87ef48a9-1b6e-402b-bcde-9bd034f068fb"
      },
      "execution_count": null,
      "outputs": [
        {
          "output_type": "stream",
          "name": "stdout",
          "text": [
            "Hello, Guest!\n"
          ]
        }
      ]
    },
    {
      "cell_type": "markdown",
      "source": [
        "# Assignment Research\n",
        "Reseach and practive the following about functions:\n",
        "1. How to write Keywword arguments\n",
        "2. Variable number of arguments\n",
        "  - *args\n",
        "  - **kwargs\n"
      ],
      "metadata": {
        "id": "XEPsLsGaF9NA"
      }
    },
    {
      "cell_type": "code",
      "source": [
        "def greet(name, message):\n",
        "    print(f\"{message}, {name}!\")\n",
        "\n",
        "greet(name=\"Nalin\", message=\"Welcome\")\n"
      ],
      "metadata": {
        "colab": {
          "base_uri": "https://localhost:8080/"
        },
        "id": "vVf-7GP595Xx",
        "outputId": "3efa81d7-8997-496e-a644-8480de8d65bf"
      },
      "execution_count": 1,
      "outputs": [
        {
          "output_type": "stream",
          "name": "stdout",
          "text": [
            "Welcome, Nalin!\n"
          ]
        }
      ]
    },
    {
      "cell_type": "code",
      "source": [
        "# Return Values:\n",
        "def square(x):\n",
        "  return x * x"
      ],
      "metadata": {
        "id": "7nLhTx9TFiZj"
      },
      "execution_count": null,
      "outputs": []
    },
    {
      "cell_type": "code",
      "source": [
        "result = square(5)"
      ],
      "metadata": {
        "id": "QdtEWwtzHXHP"
      },
      "execution_count": null,
      "outputs": []
    },
    {
      "cell_type": "code",
      "source": [
        "print(result)"
      ],
      "metadata": {
        "colab": {
          "base_uri": "https://localhost:8080/"
        },
        "id": "mfvvUza5HcbA",
        "outputId": "a7d3f58e-a5ef-40f9-d079-b41f3edbaa4e"
      },
      "execution_count": null,
      "outputs": [
        {
          "output_type": "stream",
          "name": "stdout",
          "text": [
            "25\n"
          ]
        }
      ]
    },
    {
      "cell_type": "markdown",
      "source": [
        "# Assignment on Functions:\n",
        "Create a calculator\n",
        "\n",
        "Write a python program that:\n",
        "1. Defines a function called calculate_grade(marks) that:\n",
        "  - Takes marks (0-100) as input\n",
        "  - Returns the grade based the this scale\n",
        "    - 90-100 - A\n",
        "    - 80-89 - B\n",
        "    - 70-79 - C\n",
        "    - 60 - 69 - D\n",
        "    - Below 60 - F\n",
        "2. Ask the user to enter their marks\n",
        "3. Call the function and print \"Your grade is X\""
      ],
      "metadata": {
        "id": "Oe0xa_z7HzK7"
      }
    },
    {
      "cell_type": "code",
      "source": [
        "# Docstring\n",
        "def add(a, b):\n",
        "  \"\"\"\n",
        "  This function takes in 2 numbers, a and b\n",
        "  then it performs the summation of the 2 numbers\n",
        "  and returns their sum\n",
        "  \"\"\"\n",
        "  return a + b"
      ],
      "metadata": {
        "id": "xBM0ilcDHeXj"
      },
      "execution_count": null,
      "outputs": []
    },
    {
      "cell_type": "code",
      "source": [
        "# Global variable\n",
        "a = 20\n",
        "\n",
        "def add():\n",
        "  x = 30 # Local variabel\n",
        "  y = 20 # Local variable\n",
        "  return x + y + a"
      ],
      "metadata": {
        "id": "p6xn0IB5KiDC"
      },
      "execution_count": null,
      "outputs": []
    },
    {
      "cell_type": "code",
      "source": [
        "a"
      ],
      "metadata": {
        "colab": {
          "base_uri": "https://localhost:8080/"
        },
        "id": "6OtBZUqHLJGs",
        "outputId": "bbeecef4-7cd7-4deb-c076-14a34a2ed6a6"
      },
      "execution_count": null,
      "outputs": [
        {
          "output_type": "execute_result",
          "data": {
            "text/plain": [
              "20"
            ]
          },
          "metadata": {},
          "execution_count": 20
        }
      ]
    },
    {
      "cell_type": "code",
      "source": [
        "print(add())"
      ],
      "metadata": {
        "colab": {
          "base_uri": "https://localhost:8080/"
        },
        "id": "xLkwSLCjLKS_",
        "outputId": "2f488ebe-146f-4d51-d3b0-fbf8d70594dd"
      },
      "execution_count": null,
      "outputs": [
        {
          "output_type": "stream",
          "name": "stdout",
          "text": [
            "70\n"
          ]
        }
      ]
    },
    {
      "cell_type": "code",
      "source": [
        "# Lambda functions\n",
        "multiply = lambda x : x * 3\n",
        "multiply(5)"
      ],
      "metadata": {
        "colab": {
          "base_uri": "https://localhost:8080/"
        },
        "id": "pXwmazs_LeDH",
        "outputId": "a4fbd169-fce6-40fe-8d16-dbe1f853cdef"
      },
      "execution_count": null,
      "outputs": [
        {
          "output_type": "execute_result",
          "data": {
            "text/plain": [
              "15"
            ]
          },
          "metadata": {},
          "execution_count": 22
        }
      ]
    },
    {
      "cell_type": "code",
      "source": [
        "#Calculator assignment\n",
        "def calculate_grade(marks):\n",
        "    if marks >= 90:\n",
        "        return \"A\"\n",
        "    elif marks >= 80:\n",
        "        return \"B\"\n",
        "    elif marks >= 70:\n",
        "        return \"C\"\n",
        "    elif marks >= 60:\n",
        "        return \"D\"\n",
        "    else:\n",
        "        return \"F\"\n",
        "\n",
        "# Ask user for marks\n",
        "user_marks = int(input(\"Enter your marks (0-100): \"))\n",
        "grade = calculate_grade(user_marks)\n",
        "print(f\"Your grade is {grade}\")\n"
      ],
      "metadata": {
        "id": "TvM9O3qAMdzh"
      },
      "execution_count": null,
      "outputs": []
    }
  ]
}