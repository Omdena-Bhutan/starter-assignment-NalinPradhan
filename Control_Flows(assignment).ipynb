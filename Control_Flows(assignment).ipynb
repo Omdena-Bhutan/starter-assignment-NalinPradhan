{
  "nbformat": 4,
  "nbformat_minor": 0,
  "metadata": {
    "colab": {
      "provenance": [],
      "include_colab_link": true
    },
    "kernelspec": {
      "name": "python3",
      "display_name": "Python 3"
    },
    "language_info": {
      "name": "python"
    }
  },
  "cells": [
    {
      "cell_type": "markdown",
      "metadata": {
        "id": "view-in-github",
        "colab_type": "text"
      },
      "source": [
        "<a href=\"https://colab.research.google.com/github/Omdena-Bhutan/starter-assignment-NalinPradhan/blob/main/Control_Flows(assignment).ipynb\" target=\"_parent\"><img src=\"https://colab.research.google.com/assets/colab-badge.svg\" alt=\"Open In Colab\"/></a>"
      ]
    },
    {
      "cell_type": "markdown",
      "source": [
        "# Conditional Statements\n",
        "## If statement"
      ],
      "metadata": {
        "id": "4aplKgst3D_5"
      }
    },
    {
      "cell_type": "code",
      "execution_count": null,
      "metadata": {
        "colab": {
          "base_uri": "https://localhost:8080/"
        },
        "id": "NTeAzfko1_wZ",
        "outputId": "cf5bdd64-159d-43b5-8f72-19ce7350ee04"
      },
      "outputs": [
        {
          "output_type": "stream",
          "name": "stdout",
          "text": [
            "X Is Greater than 5\n"
          ]
        }
      ],
      "source": [
        "x = 10\n",
        "if x > 5:\n",
        "  print(\"X Is Greater than 5\")"
      ]
    },
    {
      "cell_type": "markdown",
      "source": [
        "# Assignment:\n",
        "You have a Cinema you are operating giving tickets based on age\n",
        "- Children (Below 12 years) pay 300\n",
        "- Teenager (12 and 17) Pay 500\n",
        "- Adults (18 - 59) Pay 800\n",
        "- Senoirs (60+ ) pay 400\n",
        "\n",
        "Write a python program that will ask\n",
        "1. Ask the user to enter the age\n",
        "2. Uses an if statement to decide the ticket price\n",
        "3. print \"Your ticket price is AMT: X\" where X is the correct price"
      ],
      "metadata": {
        "id": "OZuUoRNj3_U5"
      }
    },
    {
      "cell_type": "code",
      "metadata": {
        "id": "bfda9d19",
        "outputId": "8bf3e3e2-5112-4a7c-a778-3ee8806fd814",
        "colab": {
          "base_uri": "https://localhost:8080/"
        }
      },
      "source": [
        "age = int(input(\"Enter your age: \"))\n",
        "\n",
        "if age < 12:\n",
        "  price = 300\n",
        "elif age >= 12 and age <= 17:\n",
        "  price = 500\n",
        "elif age >= 18 and age <= 59:\n",
        "  price = 800\n",
        "else:\n",
        "  price = 400\n",
        "\n",
        "print(f\"Your ticket price is AMT: {price}\")"
      ],
      "execution_count": 2,
      "outputs": [
        {
          "output_type": "stream",
          "name": "stdout",
          "text": [
            "Enter your age: 1\n",
            "Your ticket price is AMT: 300\n"
          ]
        }
      ]
    },
    {
      "cell_type": "code",
      "source": [
        "a = 32\n",
        "if a > 43:\n",
        "  print(\"a is greater than 43\")"
      ],
      "metadata": {
        "id": "t4GEGdoV3tej"
      },
      "execution_count": null,
      "outputs": []
    },
    {
      "cell_type": "markdown",
      "source": [
        "# if-else"
      ],
      "metadata": {
        "id": "2NSKdKwP5JA4"
      }
    },
    {
      "cell_type": "code",
      "source": [
        "age = 17\n",
        "if age >= 18:\n",
        "  print(\"You are an adult\")\n",
        "else:\n",
        "  print(\"You are a minor\")"
      ],
      "metadata": {
        "colab": {
          "base_uri": "https://localhost:8080/"
        },
        "id": "w9ms2GGE4_FZ",
        "outputId": "48191182-4b6f-44c5-c974-5b155352504a"
      },
      "execution_count": null,
      "outputs": [
        {
          "output_type": "stream",
          "name": "stdout",
          "text": [
            "You are a minor\n"
          ]
        }
      ]
    },
    {
      "cell_type": "markdown",
      "source": [
        "# if-elif-else"
      ],
      "metadata": {
        "id": "nQYJStPR5m60"
      }
    },
    {
      "cell_type": "code",
      "source": [
        "marks = 60\n",
        "\n",
        "if marks >= 90:\n",
        "  print(\"Grade A\")\n",
        "elif marks >= 70:\n",
        "  print(\"Grade B\")\n",
        "elif marks >= 50:\n",
        "  print(\"Grade C\")\n",
        "else:\n",
        "  print(\"Grade is F\")"
      ],
      "metadata": {
        "colab": {
          "base_uri": "https://localhost:8080/"
        },
        "id": "drITKYeX5ixZ",
        "outputId": "bc30cbff-5041-4ff4-bb2a-f7d103e9cffb"
      },
      "execution_count": null,
      "outputs": [
        {
          "output_type": "stream",
          "name": "stdout",
          "text": [
            "Grade C\n"
          ]
        }
      ]
    },
    {
      "cell_type": "markdown",
      "source": [
        "# Loops\n",
        "- Used to iterate over a sequence (List, string, tuple, dictionary...)\n",
        "\n",
        "- For loop\n",
        "- Range\n",
        "- While loop"
      ],
      "metadata": {
        "id": "qEEe-qSZ6qeM"
      }
    },
    {
      "cell_type": "code",
      "source": [
        "list_of_numbers = [1, 2, 3, 4, 5]\n",
        "\n",
        "for number in list_of_numbers:\n",
        "  num = number * 4\n",
        "  print(num)"
      ],
      "metadata": {
        "colab": {
          "base_uri": "https://localhost:8080/"
        },
        "id": "OYGpMZfh7UQP",
        "outputId": "ef45a259-09b9-4590-ac41-95e7873cfe92"
      },
      "execution_count": null,
      "outputs": [
        {
          "output_type": "stream",
          "name": "stdout",
          "text": [
            "4\n",
            "8\n",
            "12\n",
            "16\n",
            "20\n"
          ]
        }
      ]
    },
    {
      "cell_type": "code",
      "source": [
        "# For loop\n",
        "list_of_fruits = [\"Apple\", \"Orange\", \"Banana\"]\n",
        "for fruit in list_of_fruits:\n",
        "  print(fruit)"
      ],
      "metadata": {
        "colab": {
          "base_uri": "https://localhost:8080/"
        },
        "id": "bctjyEzK6SQ-",
        "outputId": "5da0ea3a-0c59-435a-f174-455f9de61169"
      },
      "execution_count": null,
      "outputs": [
        {
          "output_type": "stream",
          "name": "stdout",
          "text": [
            "Apple\n",
            "Orange\n",
            "Banana\n"
          ]
        }
      ]
    },
    {
      "cell_type": "markdown",
      "source": [
        "# Range"
      ],
      "metadata": {
        "id": "acQT_8_d75lQ"
      }
    },
    {
      "cell_type": "code",
      "source": [
        "for i in range(5):\n",
        "  print(i)"
      ],
      "metadata": {
        "colab": {
          "base_uri": "https://localhost:8080/"
        },
        "id": "r7AIqasr7zvQ",
        "outputId": "da09b890-2188-4ab0-bf81-82f718f638ea"
      },
      "execution_count": null,
      "outputs": [
        {
          "output_type": "stream",
          "name": "stdout",
          "text": [
            "0\n",
            "1\n",
            "2\n",
            "3\n",
            "4\n"
          ]
        }
      ]
    },
    {
      "cell_type": "code",
      "source": [
        "# Range of even numbers from to 10\n",
        "for x in range(2, 10, 2): # start, end, step\n",
        "  print(x)"
      ],
      "metadata": {
        "colab": {
          "base_uri": "https://localhost:8080/"
        },
        "id": "Ppi4fDZ88OLq",
        "outputId": "8da8055b-a7bf-48bc-f6bd-0b3826d8a362"
      },
      "execution_count": null,
      "outputs": [
        {
          "output_type": "stream",
          "name": "stdout",
          "text": [
            "2\n",
            "4\n",
            "6\n",
            "8\n"
          ]
        }
      ]
    },
    {
      "cell_type": "markdown",
      "source": [
        "# Excercise\n",
        "- Create aa program in python that will as someone to enter the range of numbers they want to create and give a range of number between 0 and the number and give only numbers that are divisible by 3"
      ],
      "metadata": {
        "id": "XpSV709w8tfr"
      }
    },
    {
      "cell_type": "code",
      "source": [
        "# Ask the user for a number\n",
        "upper_limit = int(input(\"Enter the upper limit: \"))\n",
        "\n",
        "# Loop through numbers from 0 to upper_limit\n",
        "for num in range(upper_limit + 1):\n",
        "    if num % 3 == 0:\n",
        "        print(num)\n"
      ],
      "metadata": {
        "id": "ovEh5l1N7jg0",
        "outputId": "5e0e898c-e9d6-4c15-d92e-61ac90ad515c",
        "colab": {
          "base_uri": "https://localhost:8080/"
        }
      },
      "execution_count": 3,
      "outputs": [
        {
          "output_type": "stream",
          "name": "stdout",
          "text": [
            "Enter the upper limit: 5\n",
            "0\n",
            "3\n"
          ]
        }
      ]
    },
    {
      "cell_type": "markdown",
      "source": [
        "# While Loop\n",
        "- Executes as long as the condition is True"
      ],
      "metadata": {
        "id": "-693hJgT9Abd"
      }
    },
    {
      "cell_type": "code",
      "source": [
        "x = 2\n",
        "while x <= 7:\n",
        "  print(\"Number: \", x)\n",
        "  x += 1"
      ],
      "metadata": {
        "colab": {
          "base_uri": "https://localhost:8080/"
        },
        "id": "Lb8iF8Xx8eF3",
        "outputId": "e675ea9e-e77f-4bc9-c17e-a1587818eab2"
      },
      "execution_count": null,
      "outputs": [
        {
          "output_type": "stream",
          "name": "stdout",
          "text": [
            "Number:  2\n",
            "Number:  3\n",
            "Number:  4\n",
            "Number:  5\n",
            "Number:  6\n",
            "Number:  7\n"
          ]
        }
      ]
    },
    {
      "cell_type": "code",
      "source": [
        "x"
      ],
      "metadata": {
        "colab": {
          "base_uri": "https://localhost:8080/"
        },
        "id": "0w0j51iG-yGz",
        "outputId": "1c7d5ff6-1578-4271-9955-78ec9567c57d"
      },
      "execution_count": null,
      "outputs": [
        {
          "output_type": "execute_result",
          "data": {
            "text/plain": [
              "8"
            ]
          },
          "metadata": {},
          "execution_count": 12
        }
      ]
    },
    {
      "cell_type": "markdown",
      "source": [
        "# Assignment;\n",
        "- Write a python program that;\n",
        "1. Picks a secret number (e.g 7)\n",
        "2. Asks the user to guess the number\n",
        "3. keep asking until the user gueses correclty (Using the while loop)\n",
        "4. Print \"Congratulations, you gazed it right\" when the answer is correct"
      ],
      "metadata": {
        "id": "WD4Glwc__TZ2"
      }
    },
    {
      "cell_type": "code",
      "source": [
        "# Secret number\n",
        "secret_number = 7\n",
        "\n",
        "# Ask user to guess until correct\n",
        "guess = int(input(\"Guess the secret number: \"))\n",
        "while guess != secret_number:\n",
        "    guess = int(input(\"Wrong guess. Try again: \"))\n",
        "\n",
        "print(\"Congratulations, you guessed it right!\")\n"
      ],
      "metadata": {
        "id": "1BUQujs371Sr",
        "outputId": "7caddb83-c641-4294-f6e3-98b41dfc90e5",
        "colab": {
          "base_uri": "https://localhost:8080/"
        }
      },
      "execution_count": 4,
      "outputs": [
        {
          "output_type": "stream",
          "name": "stdout",
          "text": [
            "Guess the secret number: 5\n",
            "Wrong guess. Try again: 7\n",
            "Congratulations, you guessed it right!\n"
          ]
        }
      ]
    },
    {
      "cell_type": "markdown",
      "source": [],
      "metadata": {
        "id": "F8zS8Evq7tiv"
      }
    },
    {
      "cell_type": "markdown",
      "source": [
        "# Loop Control Statements\n",
        "\n",
        "\n"
      ],
      "metadata": {
        "id": "kTOXwKr3_5Lj"
      }
    },
    {
      "cell_type": "code",
      "source": [
        "# Break - Used to exit the loop immediately\n",
        "for i in range(10):\n",
        "  if i == 5:\n",
        "    break\n",
        "  print(i)\n"
      ],
      "metadata": {
        "colab": {
          "base_uri": "https://localhost:8080/"
        },
        "id": "SE6_rMlm_DUM",
        "outputId": "bc9382b6-a279-4035-d409-a68c7f569c18"
      },
      "execution_count": null,
      "outputs": [
        {
          "output_type": "stream",
          "name": "stdout",
          "text": [
            "0\n",
            "1\n",
            "2\n",
            "3\n",
            "4\n"
          ]
        }
      ]
    },
    {
      "cell_type": "code",
      "source": [
        "# Continue - Used to skip to the next iteration\n",
        "for i in range(8):\n",
        "  if i == 3:\n",
        "    continue\n",
        "  print(i)"
      ],
      "metadata": {
        "colab": {
          "base_uri": "https://localhost:8080/"
        },
        "id": "FhGMZBtlARPn",
        "outputId": "966a5299-8bf0-4f78-86cb-3e419cbf5002"
      },
      "execution_count": null,
      "outputs": [
        {
          "output_type": "stream",
          "name": "stdout",
          "text": [
            "0\n",
            "1\n",
            "2\n",
            "4\n",
            "5\n",
            "6\n",
            "7\n"
          ]
        }
      ]
    },
    {
      "cell_type": "code",
      "source": [
        "for i in range(10):\n",
        "  if i % 2 == 0:\n",
        "    continue\n",
        "  print(i)"
      ],
      "metadata": {
        "colab": {
          "base_uri": "https://localhost:8080/"
        },
        "id": "UeguBU9FAxNd",
        "outputId": "225fa4ef-2b30-4bf3-b0d9-333628b8099c"
      },
      "execution_count": null,
      "outputs": [
        {
          "output_type": "stream",
          "name": "stdout",
          "text": [
            "1\n",
            "3\n",
            "5\n",
            "7\n",
            "9\n"
          ]
        }
      ]
    },
    {
      "cell_type": "code",
      "source": [
        "# Pass - Placeholder\n",
        "for i in range(4):\n",
        "  pass"
      ],
      "metadata": {
        "id": "yNnXxuyWBBpP"
      },
      "execution_count": null,
      "outputs": []
    },
    {
      "cell_type": "code",
      "source": [],
      "metadata": {
        "id": "jopstPnPBMr-"
      },
      "execution_count": null,
      "outputs": []
    }
  ]
}